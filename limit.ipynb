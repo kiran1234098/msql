{
 "cells": [
  {
   "cell_type": "code",
   "execution_count": 7,
   "metadata": {},
   "outputs": [],
   "source": [
    "import mysql.connector\n",
    "\n",
    "car = mysql.connector.connect(\n",
    "  host=\"localhost\",\n",
    "  user=\"abc\",\n",
    "  password=\"password\"\n",
    ")\n",
    "\n",
    "cur = car.cursor()\n",
    "cur.execute(\"use practice\")"
   ]
  },
  {
   "cell_type": "code",
   "execution_count": 8,
   "metadata": {},
   "outputs": [
    {
     "name": "stdout",
     "output_type": "stream",
     "text": [
      "(1, 'sugar', 50, 'india')\n",
      "(2, 'sugar', 50, 'india')\n",
      "(2, 'rice', 80, 'india')\n",
      "(3, 'poteto', 100, 'india')\n",
      "(4, 'brinjal', 200, 'usa')\n",
      "(5, 'brinjal', 500, 'briten')\n",
      "(4, 'brinjal', 200, 'usa')\n",
      "(5, 'brinjal', 500, 'briten')\n",
      "(4, 'brinjal', 200, 'usa')\n",
      "(5, 'brinjal', 500, 'briten')\n"
     ]
    }
   ],
   "source": [
    "cur.execute(\"select * from practice2 \")\n",
    "for i in cur:\n",
    "    print(i)"
   ]
  },
  {
   "cell_type": "code",
   "execution_count": 9,
   "metadata": {},
   "outputs": [],
   "source": [
    "#cur.execute(\"delete from practice2 where Name ='rice'\")"
   ]
  },
  {
   "cell_type": "code",
   "execution_count": 10,
   "metadata": {},
   "outputs": [
    {
     "name": "stdout",
     "output_type": "stream",
     "text": [
      "(1, 'sugar', 50, 'india')\n",
      "(2, 'sugar', 50, 'india')\n",
      "(2, 'rice', 80, 'india')\n"
     ]
    }
   ],
   "source": [
    "cur.execute(\"select * from practice2 limit 3\")\n",
    "for i in cur:\n",
    "    print(i)"
   ]
  },
  {
   "cell_type": "code",
   "execution_count": 12,
   "metadata": {},
   "outputs": [
    {
     "name": "stdout",
     "output_type": "stream",
     "text": [
      "(2, 'sugar', 50, 'india')\n",
      "(2, 'rice', 80, 'india')\n"
     ]
    }
   ],
   "source": [
    "cur.execute(\"select * from practice2 where productId = 2 limit 2\")\n",
    "for i in cur :\n",
    "    print(i)"
   ]
  },
  {
   "cell_type": "code",
   "execution_count": null,
   "metadata": {},
   "outputs": [],
   "source": []
  }
 ],
 "metadata": {
  "kernelspec": {
   "display_name": "Python 3.8.10 64-bit",
   "language": "python",
   "name": "python3"
  },
  "language_info": {
   "codemirror_mode": {
    "name": "ipython",
    "version": 3
   },
   "file_extension": ".py",
   "mimetype": "text/x-python",
   "name": "python",
   "nbconvert_exporter": "python",
   "pygments_lexer": "ipython3",
   "version": "3.8.10"
  },
  "orig_nbformat": 4,
  "vscode": {
   "interpreter": {
    "hash": "e7370f93d1d0cde622a1f8e1c04877d8463912d04d973331ad4851f04de6915a"
   }
  }
 },
 "nbformat": 4,
 "nbformat_minor": 2
}
