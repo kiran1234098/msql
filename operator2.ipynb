{
 "cells": [
  {
   "cell_type": "code",
   "execution_count": 13,
   "metadata": {},
   "outputs": [],
   "source": [
    "import mysql.connector\n",
    "\n",
    "car = mysql.connector.connect(\n",
    "  host=\"localhost\",\n",
    "  user=\"abc\",\n",
    "  password=\"password\"\n",
    ")\n",
    "\n",
    "cur = car.cursor()\n",
    "cur.execute(\"use practice\")"
   ]
  },
  {
   "cell_type": "code",
   "execution_count": 14,
   "metadata": {},
   "outputs": [
    {
     "name": "stdout",
     "output_type": "stream",
     "text": [
      "(1, 'sugar', 50, 'india')\n",
      "(2, 'sugar', 50, 'india')\n",
      "(2, 'rice', 80, 'india')\n",
      "(3, 'poteto', 100, 'india')\n",
      "(4, 'brinjal', 200, 'usa')\n",
      "(4, 'brinjal', 200, 'usa')\n",
      "(5, 'brinjal', 500, 'briten')\n",
      "(5, 'brinjal', 500, 'briten')\n"
     ]
    }
   ],
   "source": [
    "cur.execute(\"select * from practice2 order by productId\")\n",
    "for i in cur:\n",
    "    print(i)"
   ]
  },
  {
   "cell_type": "code",
   "execution_count": 15,
   "metadata": {},
   "outputs": [
    {
     "name": "stdout",
     "output_type": "stream",
     "text": [
      "(5, 'brinjal', 500, 'briten')\n",
      "(5, 'brinjal', 500, 'briten')\n",
      "(4, 'brinjal', 200, 'usa')\n",
      "(4, 'brinjal', 200, 'usa')\n",
      "(3, 'poteto', 100, 'india')\n",
      "(2, 'sugar', 50, 'india')\n",
      "(2, 'rice', 80, 'india')\n",
      "(1, 'sugar', 50, 'india')\n"
     ]
    }
   ],
   "source": [
    "cur.execute(\"select * from practice2 order by productId desc\")\n",
    "for i in cur:\n",
    "    print(i)"
   ]
  },
  {
   "cell_type": "code",
   "execution_count": 16,
   "metadata": {},
   "outputs": [
    {
     "name": "stdout",
     "output_type": "stream",
     "text": [
      "(1, 'sugar', 50, 'india')\n",
      "(2, 'rice', 80, 'india')\n",
      "(2, 'sugar', 50, 'india')\n",
      "(3, 'poteto', 100, 'india')\n",
      "(4, 'brinjal', 200, 'usa')\n",
      "(4, 'brinjal', 200, 'usa')\n",
      "(5, 'brinjal', 500, 'briten')\n",
      "(5, 'brinjal', 500, 'briten')\n"
     ]
    }
   ],
   "source": [
    "cur.execute(\"select * from practice2 order by productId ,Name\")\n",
    "for i in cur :\n",
    "    print(i)"
   ]
  },
  {
   "cell_type": "code",
   "execution_count": 17,
   "metadata": {},
   "outputs": [
    {
     "name": "stdout",
     "output_type": "stream",
     "text": [
      "(5, 'brinjal', 500, 'briten')\n",
      "(5, 'brinjal', 500, 'briten')\n",
      "(4, 'brinjal', 200, 'usa')\n",
      "(4, 'brinjal', 200, 'usa')\n",
      "(3, 'poteto', 100, 'india')\n",
      "(2, 'rice', 80, 'india')\n",
      "(2, 'sugar', 50, 'india')\n",
      "(1, 'sugar', 50, 'india')\n"
     ]
    }
   ],
   "source": [
    "cur.execute(\"select * from practice2 order by productId desc ,Name asc\")\n",
    "for i in cur:\n",
    "    print(i)"
   ]
  },
  {
   "cell_type": "code",
   "execution_count": 18,
   "metadata": {},
   "outputs": [],
   "source": [
    "cur.execute(\"insert into practice2 values(4,'brinjal',200,'usa')\")\n",
    "cur.execute(\"insert into practice2 values(5,'brinjal',500,'briten')\")\n",
    "car.commit()"
   ]
  },
  {
   "cell_type": "code",
   "execution_count": 19,
   "metadata": {},
   "outputs": [
    {
     "name": "stdout",
     "output_type": "stream",
     "text": [
      "(1, 'sugar', 50, 'india')\n",
      "(2, 'sugar', 50, 'india')\n",
      "(2, 'rice', 80, 'india')\n",
      "(3, 'poteto', 100, 'india')\n",
      "(4, 'brinjal', 200, 'usa')\n",
      "(5, 'brinjal', 500, 'briten')\n",
      "(4, 'brinjal', 200, 'usa')\n",
      "(5, 'brinjal', 500, 'briten')\n",
      "(4, 'brinjal', 200, 'usa')\n",
      "(5, 'brinjal', 500, 'briten')\n"
     ]
    }
   ],
   "source": [
    "cur.execute(\"select * from practice2\")\n",
    "for i in cur:\n",
    "    print(i)"
   ]
  },
  {
   "cell_type": "code",
   "execution_count": 20,
   "metadata": {},
   "outputs": [],
   "source": [
    "cur.execute(\"insert into practice2 (productId) values(1) \")"
   ]
  },
  {
   "cell_type": "code",
   "execution_count": 21,
   "metadata": {},
   "outputs": [
    {
     "name": "stdout",
     "output_type": "stream",
     "text": [
      "(1, None, None, None)\n"
     ]
    }
   ],
   "source": [
    "cur.execute(\"select * from practice2 where Name is null\")\n",
    "for i in cur:\n",
    "    print(i)"
   ]
  },
  {
   "cell_type": "code",
   "execution_count": 22,
   "metadata": {},
   "outputs": [
    {
     "name": "stdout",
     "output_type": "stream",
     "text": [
      "(1, 'sugar', 50, 'india')\n",
      "(2, 'sugar', 50, 'india')\n",
      "(2, 'rice', 80, 'india')\n",
      "(3, 'poteto', 100, 'india')\n",
      "(4, 'brinjal', 200, 'usa')\n",
      "(5, 'brinjal', 500, 'briten')\n",
      "(4, 'brinjal', 200, 'usa')\n",
      "(5, 'brinjal', 500, 'briten')\n",
      "(4, 'brinjal', 200, 'usa')\n",
      "(5, 'brinjal', 500, 'briten')\n"
     ]
    }
   ],
   "source": [
    "cur.execute(\"select * from practice2 where Name is not null\")\n",
    "for i in cur:\n",
    "    print(i)"
   ]
  },
  {
   "cell_type": "code",
   "execution_count": null,
   "metadata": {},
   "outputs": [],
   "source": []
  }
 ],
 "metadata": {
  "kernelspec": {
   "display_name": "Python 3.8.10 64-bit",
   "language": "python",
   "name": "python3"
  },
  "language_info": {
   "codemirror_mode": {
    "name": "ipython",
    "version": 3
   },
   "file_extension": ".py",
   "mimetype": "text/x-python",
   "name": "python",
   "nbconvert_exporter": "python",
   "pygments_lexer": "ipython3",
   "version": "3.8.10"
  },
  "orig_nbformat": 4,
  "vscode": {
   "interpreter": {
    "hash": "e7370f93d1d0cde622a1f8e1c04877d8463912d04d973331ad4851f04de6915a"
   }
  }
 },
 "nbformat": 4,
 "nbformat_minor": 2
}
