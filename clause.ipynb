{
 "cells": [
  {
   "cell_type": "code",
   "execution_count": 1,
   "metadata": {},
   "outputs": [],
   "source": [
    "import mysql.connector\n",
    "\n",
    "car = mysql.connector.connect(\n",
    "  host=\"localhost\",\n",
    "  user=\"abc\",\n",
    "  password=\"password\"\n",
    ")\n",
    "\n",
    "cur = car.cursor()\n",
    "cur.execute(\"use practice\")"
   ]
  },
  {
   "cell_type": "code",
   "execution_count": 2,
   "metadata": {},
   "outputs": [],
   "source": [
    "cur.execute(\"create table practice3 (productId int,CoName varchar(50),broutItem int,country varchar(50))\")\n",
    "cur.execute(\"insert into practice3 values(6,'seema1',50,'afrika')\")\n",
    "cur.execute(\"insert into practice3 values(7,'pooja3',100,'neziland')\")\n",
    "\n",
    "car.commit()"
   ]
  },
  {
   "cell_type": "code",
   "execution_count": 3,
   "metadata": {},
   "outputs": [],
   "source": [
    "cur.execute(\"insert into practice2 values(2,'gobhi',200,'india')\")\n",
    "cur.execute(\"insert into practice2 values(4,'palak',100,'usa')\")"
   ]
  },
  {
   "cell_type": "code",
   "execution_count": 4,
   "metadata": {},
   "outputs": [],
   "source": [
    "cur.execute(\"update practice2 set Name='tometo' where Name='bitti'\")"
   ]
  },
  {
   "cell_type": "code",
   "execution_count": 5,
   "metadata": {},
   "outputs": [
    {
     "name": "stdout",
     "output_type": "stream",
     "text": [
      "(3, 'poteto', 100, 'india')\n",
      "(2, 'gobhi', 200, 'india')\n",
      "(4, 'palak', 100, 'usa')\n"
     ]
    }
   ],
   "source": [
    "cur.execute(\"select * from practice2 \")\n",
    "for i in cur:\n",
    "    print(i)"
   ]
  },
  {
   "cell_type": "code",
   "execution_count": 6,
   "metadata": {},
   "outputs": [
    {
     "name": "stdout",
     "output_type": "stream",
     "text": [
      "(6, 'seema1', 50, 'afrika')\n",
      "(7, 'pooja3', 100, 'neziland')\n"
     ]
    }
   ],
   "source": [
    "cur.execute(\"select * from practice3 \")\n",
    "for i in cur:\n",
    "    print(i)"
   ]
  },
  {
   "cell_type": "code",
   "execution_count": 7,
   "metadata": {},
   "outputs": [],
   "source": [
    "cur.execute(\"select practice3.productId ,practice2.Name,practice3.CoName from practice2 inner join practice3 on practice2.country = practice3.country\")\n",
    "for i in cur:\n",
    "    print(i)"
   ]
  },
  {
   "cell_type": "code",
   "execution_count": 8,
   "metadata": {},
   "outputs": [
    {
     "name": "stdout",
     "output_type": "stream",
     "text": [
      "(None, 'poteto', None)\n",
      "(None, 'gobhi', None)\n",
      "(None, 'palak', None)\n"
     ]
    }
   ],
   "source": [
    "cur.execute(\"select practice3.productId ,practice2.Name,practice3.CoName from practice2 left join practice3 on practice2.country=practice3.country\")\n",
    "for i in cur:\n",
    "    print(i)"
   ]
  },
  {
   "cell_type": "code",
   "execution_count": 9,
   "metadata": {},
   "outputs": [],
   "source": [
    "cur.execute(\"create table practice6(empId int,EName varchar(50),Adress varchar(50))\")\n",
    "cur.execute(\"insert into practice6 values(1,'seema','afrika')\")\n",
    "cur.execute(\"insert into practice6 values(2,'pooja3','neziland')\")\n",
    "cur.execute(\"insert into practice6 values(3,'kiran','pune')\")\n",
    "\n",
    "car.commit()"
   ]
  },
  {
   "cell_type": "code",
   "execution_count": 10,
   "metadata": {},
   "outputs": [],
   "source": [
    "cur.execute(\"create table practice7(empId int,DName varchar(50),D varchar(50))\")\n",
    "cur.execute(\"insert into practice7 values(1,'d1','hr')\")\n",
    "cur.execute(\"insert into practice7 values(2,'d2','it')\")\n",
    "cur.execute(\"insert into practice7 values(3,'d3','finance')\")\n",
    "cur.execute(\"insert into practice7 values(4,'d1','hr')\")\n",
    "car.commit()"
   ]
  },
  {
   "cell_type": "code",
   "execution_count": 11,
   "metadata": {},
   "outputs": [
    {
     "name": "stdout",
     "output_type": "stream",
     "text": [
      "(1, 'seema', 'afrika')\n",
      "(2, 'pooja3', 'neziland')\n",
      "(3, 'kiran', 'pune')\n"
     ]
    }
   ],
   "source": [
    "cur.execute(\"select * from practice6 \")\n",
    "for i in cur:\n",
    "    print(i)"
   ]
  },
  {
   "cell_type": "code",
   "execution_count": 12,
   "metadata": {},
   "outputs": [
    {
     "name": "stdout",
     "output_type": "stream",
     "text": [
      "(1, 'd1', 'hr')\n",
      "(2, 'd2', 'it')\n",
      "(3, 'd3', 'finance')\n",
      "(4, 'd1', 'hr')\n"
     ]
    }
   ],
   "source": [
    "cur.execute(\"select * from practice7 \")\n",
    "for i in cur:\n",
    "    print(i)"
   ]
  },
  {
   "cell_type": "code",
   "execution_count": 13,
   "metadata": {},
   "outputs": [
    {
     "name": "stdout",
     "output_type": "stream",
     "text": [
      "(1, 'seema', 'd1')\n",
      "(2, 'pooja3', 'd2')\n",
      "(3, 'kiran', 'd3')\n"
     ]
    }
   ],
   "source": [
    "cur.execute(\"select practice6.empId,practice6.EName,practice7.DName from practice6 inner join practice7 on practice6.empId=practice7.empId\")\n",
    "for i in cur:\n",
    "    print(i)"
   ]
  },
  {
   "cell_type": "code",
   "execution_count": 14,
   "metadata": {},
   "outputs": [
    {
     "name": "stdout",
     "output_type": "stream",
     "text": [
      "(1, 'seema', 'd1')\n",
      "(2, 'pooja3', 'd2')\n",
      "(3, 'kiran', 'd3')\n"
     ]
    }
   ],
   "source": [
    "cur.execute(\"select practice6.empId,practice6.EName,practice7.DName from practice6 left join practice7 on practice6.empId=practice7.empId\")\n",
    "for i in cur:\n",
    "    print(i)"
   ]
  },
  {
   "cell_type": "code",
   "execution_count": 15,
   "metadata": {},
   "outputs": [
    {
     "name": "stdout",
     "output_type": "stream",
     "text": [
      "(1, 'seema', 'd1')\n",
      "(2, 'pooja3', 'd2')\n",
      "(3, 'kiran', 'd3')\n",
      "(None, None, 'd1')\n"
     ]
    }
   ],
   "source": [
    "cur.execute(\"select practice6.empId,practice6.EName,practice7.DName from practice6 right join practice7 on practice6.empId=practice7.empId\")\n",
    "for i in cur:\n",
    "    print(i)"
   ]
  },
  {
   "cell_type": "code",
   "execution_count": 17,
   "metadata": {},
   "outputs": [
    {
     "name": "stdout",
     "output_type": "stream",
     "text": [
      "(1, 'seema', 'd1')\n",
      "(2, 'pooja3', 'd2')\n",
      "(3, 'kiran', 'd3')\n"
     ]
    }
   ],
   "source": [
    "cur.execute(\"select practice6.empId,practice6.EName,practice7.DName from practice6 cross join practice7 on practice6.empId=practice7.empId\")\n",
    "for i in cur:\n",
    "    print(i)"
   ]
  },
  {
   "cell_type": "code",
   "execution_count": 18,
   "metadata": {},
   "outputs": [
    {
     "name": "stdout",
     "output_type": "stream",
     "text": [
      "(1, 'seema', 'afrika')\n",
      "(2, 'pooja3', 'neziland')\n",
      "(3, 'kiran', 'pune')\n",
      "(1, 'd1', 'hr')\n",
      "(2, 'd2', 'it')\n",
      "(3, 'd3', 'finance')\n",
      "(4, 'd1', 'hr')\n"
     ]
    }
   ],
   "source": [
    "cur.execute(\"select * from practice6 union select * from practice7\")\n",
    "for i in cur:\n",
    "    print(i)"
   ]
  },
  {
   "cell_type": "code",
   "execution_count": 19,
   "metadata": {},
   "outputs": [
    {
     "name": "stdout",
     "output_type": "stream",
     "text": [
      "(1,)\n",
      "(2,)\n",
      "(3,)\n",
      "(4,)\n"
     ]
    }
   ],
   "source": [
    "cur.execute(\"select empId from practice6 union select empId from practice7\")\n",
    "for i in cur:\n",
    "    print(i)"
   ]
  },
  {
   "cell_type": "code",
   "execution_count": 21,
   "metadata": {},
   "outputs": [
    {
     "name": "stdout",
     "output_type": "stream",
     "text": [
      "(1,)\n",
      "(2,)\n",
      "(3,)\n",
      "(1,)\n",
      "(2,)\n",
      "(3,)\n",
      "(4,)\n"
     ]
    }
   ],
   "source": [
    "cur.execute(\"select empId from practice6 union  all select empId from practice7\")\n",
    "for i in cur:\n",
    "    print(i)"
   ]
  },
  {
   "cell_type": "code",
   "execution_count": null,
   "metadata": {},
   "outputs": [],
   "source": []
  }
 ],
 "metadata": {
  "kernelspec": {
   "display_name": "Python 3.8.10 64-bit",
   "language": "python",
   "name": "python3"
  },
  "language_info": {
   "codemirror_mode": {
    "name": "ipython",
    "version": 3
   },
   "file_extension": ".py",
   "mimetype": "text/x-python",
   "name": "python",
   "nbconvert_exporter": "python",
   "pygments_lexer": "ipython3",
   "version": "3.8.10"
  },
  "orig_nbformat": 4,
  "vscode": {
   "interpreter": {
    "hash": "e7370f93d1d0cde622a1f8e1c04877d8463912d04d973331ad4851f04de6915a"
   }
  }
 },
 "nbformat": 4,
 "nbformat_minor": 2
}
